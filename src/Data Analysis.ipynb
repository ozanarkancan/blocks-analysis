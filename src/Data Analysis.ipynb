{
 "cells": [
  {
   "cell_type": "code",
   "execution_count": 1,
   "metadata": {},
   "outputs": [
    {
     "data": {
      "text/plain": [
       "read_dataset (generic function with 2 methods)"
      ]
     },
     "execution_count": 1,
     "metadata": {},
     "output_type": "execute_result"
    }
   ],
   "source": [
    "include(\"data_handler.jl\")"
   ]
  },
  {
   "cell_type": "code",
   "execution_count": 2,
   "metadata": {},
   "outputs": [],
   "source": [
    "trnb, devb, tstb, vocabsize = read_dataset(\"../data/2016-NAACL/STxyz/\", 1; addworld=false);"
   ]
  },
  {
   "cell_type": "code",
   "execution_count": 17,
   "metadata": {},
   "outputs": [],
   "source": [
    "trn_sources = hcat(map(x->reshape(x.sources, 3, 1), trnb)...);\n",
    "trn_targets = hcat(map(x->reshape(x.targets, 3, 1), trnb)...);\n",
    "dev_sources = hcat(map(x->reshape(x.sources, 3, 1), devb)...);\n",
    "dev_targets = hcat(map(x->reshape(x.targets, 3, 1), devb)...);\n",
    "test_sources = hcat(map(x->reshape(x.sources, 3, 1), tstb)...);\n",
    "test_targets = hcat(map(x->reshape(x.targets, 3, 1), tstb)...);"
   ]
  },
  {
   "cell_type": "code",
   "execution_count": 23,
   "metadata": {},
   "outputs": [
    {
     "name": "stdout",
     "output_type": "stream",
     "text": [
      "*** Averages ***\n",
      "Source Block Train μ: Float32[-0.0138969; 0.099988; -0.00856706] σ: Float32[0.621981; 1.20259f-5; 0.596289]\n",
      "Target Position Train μ: Float32[0.129143; 0.099988; -0.124375] σ: Float32[0.323372; 1.20259f-5; 0.447791]\n",
      "\n",
      "Source Block Dev μ: Float32[-0.0437697; 0.100001; -0.00277486] σ: Float32[0.580318; 7.52726f-7; 0.604469]\n",
      "Target Position Dev μ: Float32[0.16377; 0.100001; -0.134607] σ: Float32[0.319323; 7.52726f-7; 0.443743]\n",
      "\n",
      "Source Block Test μ: Float32[0.00186968; 0.100003; 0.00371109] σ: Float32[0.620826; 3.19679f-6; 0.588454]\n",
      "Target Position Test μ: Float32[0.127507; 0.100003; -0.113343] σ: Float32[0.298691; 3.19679f-6; 0.452174]\n"
     ]
    }
   ],
   "source": [
    "println(\"*** Averages ***\")\n",
    "println(\"Source Block Train μ: $(mean(trn_sources, 2)) σ: $(std(trn_sources, 2))\")\n",
    "println(\"Target Position Train μ: $(mean(trn_targets, 2)) σ: $(std(trn_targets, 2))\")\n",
    "println(\"\")\n",
    "println(\"Source Block Dev μ: $(mean(dev_sources, 2)) σ: $(std(dev_sources, 2))\")\n",
    "println(\"Target Position Dev μ: $(mean(dev_targets, 2)) σ: $(std(dev_targets, 2))\")\n",
    "println(\"\")\n",
    "println(\"Source Block Test μ: $(mean(test_sources, 2)) σ: $(std(test_sources, 2))\")\n",
    "println(\"Target Position Test μ: $(mean(test_targets, 2)) σ: $(std(test_targets, 2))\")"
   ]
  },
  {
   "cell_type": "code",
   "execution_count": 30,
   "metadata": {},
   "outputs": [
    {
     "name": "stdout",
     "output_type": "stream",
     "text": [
      "** Baseline (Train Mean) (Median, Mean) **\n",
      "Dev Source: (5.460992416371823, 5.176767081663597) Target: (3.463604397035333, 3.338602757283673)\n",
      "Test Source: (5.440029494092846, 5.30981977431434) Target: (3.463604397035333, 3.27121680565107)\n"
     ]
    }
   ],
   "source": [
    "μsource = mean(trn_sources, 2)\n",
    "μtarget = mean(trn_targets, 2)\n",
    "dev_source_baseline = map(x-> sqrt(sum((μsource .- dev_sources[:, x]) .^ 2)) / 0.1524, 1:size(dev_sources, 2))\n",
    "dev_target_baseline = map(x-> sqrt(sum((μtarget .- dev_targets[:, x]) .^ 2)) / 0.1524, 1:size(dev_targets, 2))\n",
    "test_source_baseline = map(x-> sqrt(sum((μsource .- test_sources[:, x]) .^ 2)) / 0.1524, 1:size(test_sources, 2))\n",
    "test_target_baseline = map(x-> sqrt(sum((μtarget .- test_targets[:, x]) .^ 2)) / 0.1524, 1:size(test_targets, 2))\n",
    "\n",
    "println(\"** Baseline (Train Mean) (Median, Mean) **\")\n",
    "println(\"Dev Source: $((median(dev_source_baseline), mean(dev_source_baseline))) Target: $((median(dev_target_baseline), mean(dev_target_baseline)))\")\n",
    "println(\"Test Source: $((median(test_source_baseline), mean(test_source_baseline))) Target: $((median(test_target_baseline), mean(test_target_baseline)))\")"
   ]
  },
  {
   "cell_type": "code",
   "execution_count": 44,
   "metadata": {},
   "outputs": [],
   "source": [
    "trnsc = Dict();\n",
    "devsc = Dict();\n",
    "testsc = Dict();\n",
    "for x in vcat(map(x->x.sourceinds, trnb)...); trnsc[x] = get!(trnsc, x, 0) + 1; end;\n",
    "for x in vcat(map(x->x.sourceinds, devb)...); devsc[x] = get!(trnsc, x, 0) + 1; end;\n",
    "for x in vcat(map(x->x.sourceinds, tstb)...); testsc[x] = get!(trnsc, x, 0) + 1; end;"
   ]
  },
  {
   "cell_type": "code",
   "execution_count": 51,
   "metadata": {},
   "outputs": [
    {
     "data": {
      "text/html": [
       "<div id=\"f55f00fd-7aaf-4a49-9d13-93312d154519\" class=\"plotly-graph-div\"></div>\n",
       "\n",
       "<script>\n",
       "    (function() {\n",
       "        var data_f55f00fd = [{\"showlegend\":false,\"values\":[630.0,621.0,576.0,621.0,630.0,630.0,630.0,468.0,567.0,630.0,630.0,630.0,630.0,630.0,387.0,612.0,612.0,603.0,621.0,513.0],\"xaxis\":\"x\",\"colorbar\":{\"title\":\"\"},\"labels\":[1.0,2.0,16.0,11.0,7.0,9.0,10.0,19.0,17.0,8.0,6.0,4.0,3.0,5.0,20.0,14.0,13.0,15.0,12.0,18.0],\"type\":\"pie\",\"name\":\"y1\",\"hoverinfo\":\"label+percent+name\",\"yaxis\":\"y\"}];\n",
       "var layout_f55f00fd = {\"showlegend\":true,\"xaxis\":{\"showticklabels\":false,\"gridwidth\":0.5,\"visible\":true,\"ticks\":\"inside\",\"range\":[0.0,1.0],\"domain\":[0.1894320501603966,0.8105679498396035],\"linecolor\":\"rgba(0, 0, 0, 1.000)\",\"showgrid\":false,\"title\":\"\",\"mirror\":false,\"tickangle\":0,\"showline\":true,\"gridcolor\":\"rgba(0, 0, 0, 0.100)\",\"zeroline\":false,\"zerolinecolor\":\"rgba(0, 0, 0, 1.000)\",\"anchor\":\"y\"},\"paper_bgcolor\":\"rgba(255, 255, 255, 1.000)\",\"annotations\":[{\"yanchor\":\"top\",\"xanchor\":\"center\",\"rotation\":-0.0,\"y\":1.0,\"font\":{\"color\":\"rgba(0, 0, 0, 1.000)\",\"family\":\"sans-serif\",\"size\":20},\"yref\":\"paper\",\"showarrow\":false,\"text\":\"Train Source Class Distribution\",\"xref\":\"paper\",\"x\":0.5}],\"height\":400,\"margin\":{\"l\":0,\"b\":20,\"r\":0,\"t\":20},\"plot_bgcolor\":\"rgba(255, 255, 255, 1.000)\",\"yaxis\":{\"showticklabels\":false,\"gridwidth\":0.5,\"visible\":true,\"ticks\":\"inside\",\"range\":[0.0,1.0],\"domain\":[0.00984251968503937,0.9415463692038496],\"linecolor\":\"rgba(0, 0, 0, 1.000)\",\"showgrid\":false,\"title\":\"\",\"mirror\":false,\"tickangle\":0,\"showline\":true,\"gridcolor\":\"rgba(0, 0, 0, 0.100)\",\"zeroline\":false,\"zerolinecolor\":\"rgba(0, 0, 0, 1.000)\",\"anchor\":\"x\"},\"legend\":{\"bordercolor\":\"rgba(0, 0, 0, 1.000)\",\"bgcolor\":\"rgba(255, 255, 255, 1.000)\",\"font\":{\"color\":\"rgba(0, 0, 0, 1.000)\",\"family\":\"sans-serif\",\"size\":11},\"y\":1.0,\"x\":1.0},\"width\":600};\n",
       "\n",
       "        if (!requirejs.specified('plotly')) {\n",
       "          requirejs.config({\n",
       "            paths: {\n",
       "              'plotly_cdn': ['https://cdn.plot.ly/plotly-latest.min']\n",
       "            },\n",
       "          });\n",
       "          require(['plotly_cdn'], function(Plotly) {\n",
       "            Plotly.newPlot('f55f00fd-7aaf-4a49-9d13-93312d154519',\n",
       "    data_f55f00fd, layout_f55f00fd,\n",
       "    {showLink: false}\n",
       ");\n",
       "\n",
       "          });\n",
       "        } else {\n",
       "          require(['plotly'], function(Plotly) {\n",
       "            Plotly.newPlot('f55f00fd-7aaf-4a49-9d13-93312d154519',\n",
       "    data_f55f00fd, layout_f55f00fd,\n",
       "    {showLink: false}\n",
       ");\n",
       "\n",
       "            if (window.Plotly == undefined) {\n",
       "                window.Plotly = Plotly;\n",
       "            }\n",
       "          });\n",
       "        }\n",
       "    })();\n",
       " </script>\n"
      ]
     },
     "execution_count": 51,
     "metadata": {},
     "output_type": "execute_result"
    }
   ],
   "source": [
    "using Plots\n",
    "plotlyjs()\n",
    "x = collect(keys(trnsc))\n",
    "y = collect(values(trnsc))\n",
    "pie(x, y, title=\"Train Source Class Distribution\")"
   ]
  },
  {
   "cell_type": "code",
   "execution_count": 52,
   "metadata": {},
   "outputs": [
    {
     "data": {
      "text/html": [
       "<div id=\"de94fc7e-ce80-4f9f-b641-e1ab809add67\" class=\"plotly-graph-div\"></div>\n",
       "\n",
       "<script>\n",
       "    (function() {\n",
       "        var data_de94fc7e = [{\"showlegend\":false,\"values\":[631.0,622.0,577.0,622.0,631.0,631.0,631.0,469.0,568.0,631.0,631.0,631.0,631.0,631.0,388.0,613.0,613.0,604.0,622.0,514.0],\"xaxis\":\"x\",\"colorbar\":{\"title\":\"\"},\"labels\":[1.0,2.0,16.0,11.0,7.0,9.0,10.0,19.0,17.0,8.0,6.0,4.0,3.0,5.0,20.0,14.0,13.0,15.0,12.0,18.0],\"type\":\"pie\",\"name\":\"y1\",\"hoverinfo\":\"label+percent+name\",\"yaxis\":\"y\"}];\n",
       "var layout_de94fc7e = {\"showlegend\":true,\"xaxis\":{\"showticklabels\":false,\"gridwidth\":0.5,\"visible\":true,\"ticks\":\"inside\",\"range\":[0.0,1.0],\"domain\":[0.1894320501603966,0.8105679498396035],\"linecolor\":\"rgba(0, 0, 0, 1.000)\",\"showgrid\":false,\"title\":\"\",\"mirror\":false,\"tickangle\":0,\"showline\":true,\"gridcolor\":\"rgba(0, 0, 0, 0.100)\",\"zeroline\":false,\"zerolinecolor\":\"rgba(0, 0, 0, 1.000)\",\"anchor\":\"y\"},\"paper_bgcolor\":\"rgba(255, 255, 255, 1.000)\",\"annotations\":[{\"yanchor\":\"top\",\"xanchor\":\"center\",\"rotation\":-0.0,\"y\":1.0,\"font\":{\"color\":\"rgba(0, 0, 0, 1.000)\",\"family\":\"sans-serif\",\"size\":20},\"yref\":\"paper\",\"showarrow\":false,\"text\":\"Dev Source Class Distribution\",\"xref\":\"paper\",\"x\":0.5}],\"height\":400,\"margin\":{\"l\":0,\"b\":20,\"r\":0,\"t\":20},\"plot_bgcolor\":\"rgba(255, 255, 255, 1.000)\",\"yaxis\":{\"showticklabels\":false,\"gridwidth\":0.5,\"visible\":true,\"ticks\":\"inside\",\"range\":[0.0,1.0],\"domain\":[0.00984251968503937,0.9415463692038496],\"linecolor\":\"rgba(0, 0, 0, 1.000)\",\"showgrid\":false,\"title\":\"\",\"mirror\":false,\"tickangle\":0,\"showline\":true,\"gridcolor\":\"rgba(0, 0, 0, 0.100)\",\"zeroline\":false,\"zerolinecolor\":\"rgba(0, 0, 0, 1.000)\",\"anchor\":\"x\"},\"legend\":{\"bordercolor\":\"rgba(0, 0, 0, 1.000)\",\"bgcolor\":\"rgba(255, 255, 255, 1.000)\",\"font\":{\"color\":\"rgba(0, 0, 0, 1.000)\",\"family\":\"sans-serif\",\"size\":11},\"y\":1.0,\"x\":1.0},\"width\":600};\n",
       "\n",
       "        if (!requirejs.specified('plotly')) {\n",
       "          requirejs.config({\n",
       "            paths: {\n",
       "              'plotly_cdn': ['https://cdn.plot.ly/plotly-latest.min']\n",
       "            },\n",
       "          });\n",
       "          require(['plotly_cdn'], function(Plotly) {\n",
       "            Plotly.newPlot('de94fc7e-ce80-4f9f-b641-e1ab809add67',\n",
       "    data_de94fc7e, layout_de94fc7e,\n",
       "    {showLink: false}\n",
       ");\n",
       "\n",
       "          });\n",
       "        } else {\n",
       "          require(['plotly'], function(Plotly) {\n",
       "            Plotly.newPlot('de94fc7e-ce80-4f9f-b641-e1ab809add67',\n",
       "    data_de94fc7e, layout_de94fc7e,\n",
       "    {showLink: false}\n",
       ");\n",
       "\n",
       "            if (window.Plotly == undefined) {\n",
       "                window.Plotly = Plotly;\n",
       "            }\n",
       "          });\n",
       "        }\n",
       "    })();\n",
       " </script>\n"
      ]
     },
     "execution_count": 52,
     "metadata": {},
     "output_type": "execute_result"
    }
   ],
   "source": [
    "x = collect(keys(devsc))\n",
    "y = collect(values(devsc))\n",
    "pie(x, y, title=\"Dev Source Class Distribution\")"
   ]
  },
  {
   "cell_type": "code",
   "execution_count": 53,
   "metadata": {},
   "outputs": [
    {
     "data": {
      "text/html": [
       "<div id=\"a8b29199-20e3-4275-815e-9df527c85543\" class=\"plotly-graph-div\"></div>\n",
       "\n",
       "<script>\n",
       "    (function() {\n",
       "        var data_a8b29199 = [{\"showlegend\":false,\"values\":[631.0,622.0,577.0,622.0,631.0,631.0,631.0,469.0,568.0,631.0,631.0,631.0,631.0,631.0,388.0,613.0,613.0,604.0,622.0,514.0],\"xaxis\":\"x\",\"colorbar\":{\"title\":\"\"},\"labels\":[1.0,2.0,16.0,11.0,7.0,9.0,10.0,19.0,17.0,8.0,6.0,4.0,3.0,5.0,20.0,13.0,14.0,15.0,12.0,18.0],\"type\":\"pie\",\"name\":\"y1\",\"hoverinfo\":\"label+percent+name\",\"yaxis\":\"y\"}];\n",
       "var layout_a8b29199 = {\"showlegend\":true,\"xaxis\":{\"showticklabels\":false,\"gridwidth\":0.5,\"visible\":true,\"ticks\":\"inside\",\"range\":[0.0,1.0],\"domain\":[0.1894320501603966,0.8105679498396035],\"linecolor\":\"rgba(0, 0, 0, 1.000)\",\"showgrid\":false,\"title\":\"\",\"mirror\":false,\"tickangle\":0,\"showline\":true,\"gridcolor\":\"rgba(0, 0, 0, 0.100)\",\"zeroline\":false,\"zerolinecolor\":\"rgba(0, 0, 0, 1.000)\",\"anchor\":\"y\"},\"paper_bgcolor\":\"rgba(255, 255, 255, 1.000)\",\"annotations\":[{\"yanchor\":\"top\",\"xanchor\":\"center\",\"rotation\":-0.0,\"y\":1.0,\"font\":{\"color\":\"rgba(0, 0, 0, 1.000)\",\"family\":\"sans-serif\",\"size\":20},\"yref\":\"paper\",\"showarrow\":false,\"text\":\"Test Source Class Distribution\",\"xref\":\"paper\",\"x\":0.5}],\"height\":400,\"margin\":{\"l\":0,\"b\":20,\"r\":0,\"t\":20},\"plot_bgcolor\":\"rgba(255, 255, 255, 1.000)\",\"yaxis\":{\"showticklabels\":false,\"gridwidth\":0.5,\"visible\":true,\"ticks\":\"inside\",\"range\":[0.0,1.0],\"domain\":[0.00984251968503937,0.9415463692038496],\"linecolor\":\"rgba(0, 0, 0, 1.000)\",\"showgrid\":false,\"title\":\"\",\"mirror\":false,\"tickangle\":0,\"showline\":true,\"gridcolor\":\"rgba(0, 0, 0, 0.100)\",\"zeroline\":false,\"zerolinecolor\":\"rgba(0, 0, 0, 1.000)\",\"anchor\":\"x\"},\"legend\":{\"bordercolor\":\"rgba(0, 0, 0, 1.000)\",\"bgcolor\":\"rgba(255, 255, 255, 1.000)\",\"font\":{\"color\":\"rgba(0, 0, 0, 1.000)\",\"family\":\"sans-serif\",\"size\":11},\"y\":1.0,\"x\":1.0},\"width\":600};\n",
       "\n",
       "        if (!requirejs.specified('plotly')) {\n",
       "          requirejs.config({\n",
       "            paths: {\n",
       "              'plotly_cdn': ['https://cdn.plot.ly/plotly-latest.min']\n",
       "            },\n",
       "          });\n",
       "          require(['plotly_cdn'], function(Plotly) {\n",
       "            Plotly.newPlot('a8b29199-20e3-4275-815e-9df527c85543',\n",
       "    data_a8b29199, layout_a8b29199,\n",
       "    {showLink: false}\n",
       ");\n",
       "\n",
       "          });\n",
       "        } else {\n",
       "          require(['plotly'], function(Plotly) {\n",
       "            Plotly.newPlot('a8b29199-20e3-4275-815e-9df527c85543',\n",
       "    data_a8b29199, layout_a8b29199,\n",
       "    {showLink: false}\n",
       ");\n",
       "\n",
       "            if (window.Plotly == undefined) {\n",
       "                window.Plotly = Plotly;\n",
       "            }\n",
       "          });\n",
       "        }\n",
       "    })();\n",
       " </script>\n"
      ]
     },
     "execution_count": 53,
     "metadata": {},
     "output_type": "execute_result"
    }
   ],
   "source": [
    "x = collect(keys(testsc))\n",
    "y = collect(values(testsc))\n",
    "pie(x, y, title=\"Test Source Class Distribution\")"
   ]
  }
 ],
 "metadata": {
  "kernelspec": {
   "display_name": "Julia 0.6.2",
   "language": "julia",
   "name": "julia-0.6"
  },
  "language_info": {
   "file_extension": ".jl",
   "mimetype": "application/julia",
   "name": "julia",
   "version": "0.6.2"
  }
 },
 "nbformat": 4,
 "nbformat_minor": 2
}
